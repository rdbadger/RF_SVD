{
 "cells": [
  {
   "cell_type": "markdown",
   "metadata": {
    "colab_type": "text",
    "id": "cn5_7mqggh2H"
   },
   "source": [
    "## SVD Vodeson"
   ]
  },
  {
   "cell_type": "code",
   "execution_count": 1,
   "metadata": {
    "colab": {
     "base_uri": "https://localhost:8080/",
     "height": 68
    },
    "colab_type": "code",
    "executionInfo": {
     "elapsed": 2251,
     "status": "ok",
     "timestamp": 1548951950015,
     "user": {
      "displayName": "Robert Badger",
      "photoUrl": "",
      "userId": "11966704463856227449"
     },
     "user_tz": 300
    },
    "id": "r80FflgHhCiH",
    "outputId": "143411b2-cc11-47a1-c334-a76291219798",
    "scrolled": false
   },
   "outputs": [
    {
     "name": "stdout",
     "output_type": "stream",
     "text": [
      "Torch version = 1.6.0 CUDA version = 10.2\n",
      "CUDA Device: cuda:0\n",
      "Is cuda available? = True\n"
     ]
    }
   ],
   "source": [
    "import os\n",
    "import itertools\n",
    "from sklearn.utils import shuffle\n",
    "import torch, torchvision\n",
    "import torch.nn as nn\n",
    "import torch.nn.functional as d\n",
    "import torch.optim as optim\n",
    "import torch.nn.functional as F\n",
    "import torch.nn.modules as mod\n",
    "import torch.utils.data\n",
    "import torch.utils.data as data\n",
    "from torch.nn.utils.rnn import pack_padded_sequence\n",
    "from torch.nn.utils.rnn import pad_packed_sequence\n",
    "from torch.autograd import Variable\n",
    "import numpy as np\n",
    "import sys\n",
    "import importlib\n",
    "import time\n",
    "import matplotlib.pyplot as plt\n",
    "import torchvision.datasets as datasets\n",
    "import torchvision.transforms as transforms\n",
    "from torchvision.utils import save_image\n",
    "import librosa\n",
    "from scipy import signal\n",
    "from scipy import stats\n",
    "from scipy.special import comb\n",
    "import matplotlib.pyplot as plt\n",
    "import glob\n",
    "import pickle\n",
    "from random import randint, choice\n",
    "import random\n",
    "plt.style.use('default')\n",
    "device = torch.device('cuda:0')\n",
    "print('Torch version =', torch.__version__, 'CUDA version =', torch.version.cuda)\n",
    "print('CUDA Device:', device)\n",
    "print('Is cuda available? =',torch.cuda.is_available())"
   ]
  },
  {
   "cell_type": "code",
   "execution_count": 2,
   "metadata": {},
   "outputs": [],
   "source": [
    "#%matplotlib notebook\n",
    "# %matplotlib inline"
   ]
  },
  {
   "cell_type": "markdown",
   "metadata": {
    "colab_type": "text",
    "id": "2t_9_D3l0Px9"
   },
   "source": [
    "#### Machine paths"
   ]
  },
  {
   "cell_type": "code",
   "execution_count": 3,
   "metadata": {
    "scrolled": false
   },
   "outputs": [
    {
     "name": "stdout",
     "output_type": "stream",
     "text": [
      "/home/david/sigMF_ML/SVD/\n"
     ]
    }
   ],
   "source": [
    "path = \"/home/david/sigMF_ML/SVD/\" # ACE\n",
    "path_save = \"/home/david/sigMF_ML/SVD/svd_plots\" # ACE\n",
    "path_save2 = \"/home/david/sigMF_ML/SVD/clean_speech/IQ_files/stoi_save/\" # ace\n",
    "print(path)"
   ]
  },
  {
   "cell_type": "code",
   "execution_count": 4,
   "metadata": {},
   "outputs": [],
   "source": [
    "os.chdir(path)\n",
    "db = np.fromfile(\"UHF_vodeson_snr_hi.sigmf-data\", dtype=\"float32\")"
   ]
  },
  {
   "cell_type": "code",
   "execution_count": 5,
   "metadata": {},
   "outputs": [],
   "source": [
    "n=2\n",
    "I = db[0::2]\n",
    "Q = db[1::2]"
   ]
  },
  {
   "cell_type": "code",
   "execution_count": 6,
   "metadata": {},
   "outputs": [],
   "source": [
    "from timeit import default_timer as timer"
   ]
  },
  {
   "cell_type": "markdown",
   "metadata": {},
   "source": [
    "### scipy method"
   ]
  },
  {
   "cell_type": "code",
   "execution_count": 9,
   "metadata": {},
   "outputs": [
    {
     "name": "stdout",
     "output_type": "stream",
     "text": [
      "0.5524516720015527\n"
     ]
    }
   ],
   "source": [
    "n_fft = 1024\n",
    "t = len(db)\n",
    "max = 5000000\n",
    "db2 = db[0::]\n",
    "start = timer()\n",
    "db2 = db2.astype(np.float32).view(np.complex64)\n",
    "Fs = 1e6\n",
    "I_t, I_f, Z = signal.stft(db2, fs=Fs, nperseg=n_fft, return_onesided=False)\n",
    "ps = np.abs(Z)\n",
    "IQ2 = np.vstack([ps[n_fft//2:], ps[:n_fft//2]])\n",
    "end = timer()\n",
    "print(end - start)"
   ]
  },
  {
   "cell_type": "markdown",
   "metadata": {},
   "source": [
    "### SVD"
   ]
  },
  {
   "cell_type": "code",
   "execution_count": 10,
   "metadata": {},
   "outputs": [],
   "source": [
    "U, D, V = np.linalg.svd(IQ2[:,:]) "
   ]
  },
  {
   "cell_type": "code",
   "execution_count": 11,
   "metadata": {},
   "outputs": [
    {
     "data": {
      "text/plain": [
       "((1024, 1024), (1024,), (9767, 9767), (1024, 9767))"
      ]
     },
     "execution_count": 11,
     "metadata": {},
     "output_type": "execute_result"
    }
   ],
   "source": [
    "U.shape, D.shape, V.shape, IQ2.shape"
   ]
  },
  {
   "cell_type": "code",
   "execution_count": 12,
   "metadata": {},
   "outputs": [],
   "source": [
    "def RelativeError(A, k, U, D, V):\n",
    "    A_k = np.matrix(U[:, :k]) * np.diag(D[:k]) * V[:k, :10000]\n",
    "    Ak_norm = np.linalg.norm(A_k, ord=None)\n",
    "#     print('Ak norm = ', Ak_norm)\n",
    "    A_norm = np.linalg.norm(A, ord=None)\n",
    "#     print('A_norm = ', A_norm)\n",
    "    AK = np.linalg.norm((A-A_k), ord=None)\n",
    "    error = AK/A_norm*100\n",
    "    return error"
   ]
  },
  {
   "cell_type": "markdown",
   "metadata": {},
   "source": [
    "### Trying to match up vectors..."
   ]
  },
  {
   "cell_type": "code",
   "execution_count": 13,
   "metadata": {},
   "outputs": [
    {
     "data": {
      "text/plain": [
       "9767"
      ]
     },
     "execution_count": 13,
     "metadata": {},
     "output_type": "execute_result"
    }
   ],
   "source": [
    "rank = np.size(IQ2[:,:10000],1)\n",
    "rank"
   ]
  },
  {
   "cell_type": "code",
   "execution_count": 14,
   "metadata": {},
   "outputs": [
    {
     "name": "stdout",
     "output_type": "stream",
     "text": [
      "283.3648384319986\n"
     ]
    }
   ],
   "source": [
    "start = timer()\n",
    "rank = np.size(IQ2[:,:10000],1)\n",
    "err = np.zeros(rank) # for starting at index position 1\n",
    "for k in range(1,999):\n",
    "    err[k] = RelativeError(IQ2[:1024,:9767], k, U, D, V)\n",
    "end = timer()\n",
    "print(end - start)    "
   ]
  },
  {
   "cell_type": "code",
   "execution_count": 15,
   "metadata": {
    "scrolled": false
   },
   "outputs": [
    {
     "data": {
      "text/plain": [
       "<matplotlib.figure.Figure at 0x7f7c128efb00>"
      ]
     },
     "metadata": {},
     "output_type": "display_data"
    },
    {
     "data": {
      "image/png": "[encoded data removed]",
      "text/plain": [
       "<matplotlib.figure.Figure at 0x7f7c128efac8>"
      ]
     },
     "metadata": {
      "needs_background": "light"
     },
     "output_type": "display_data"
    }
   ],
   "source": [
    "rank = np.size(IQ2,1)\n",
    "rank = 30 # reduced rank by 1 for matrix math to work out\n",
    "x = np.arange(rank+1) # Start at index position 1\n",
    "f = np.argmin(err[1:rank]<1.0)\n",
    "plt.figure(figsize=(9, 6))\n",
    "# fig,ax = plt.subplots()\n",
    "fig2 = plt.figure()\n",
    "plt.scatter(x[1:rank],err[1:rank],c='r', label='error')\n",
    "plt.legend(loc='upper right')\n",
    "plt.title('Percent Error vs K')\n",
    "plt.xlabel('k')\n",
    "plt.ylabel('% Error')\n",
    "plt.ylim([0, np.amax(err)+np.amax(err)*.2])\n",
    "plt.xlim(0, rank)\n",
    "# plt.xlim(25, 30)\n",
    "plt.grid()\n",
    "fig2.savefig('vod_1MSPS_30vectors.png', format=\"png\")\n",
    "plt.show()\n",
    "end = timer()"
   ]
  },
  {
   "cell_type": "code",
   "execution_count": 16,
   "metadata": {},
   "outputs": [],
   "source": [
    "os.chdir(path_save)\n",
    "np.save('vod_err', err)"
   ]
  },
  {
   "cell_type": "markdown",
   "metadata": {},
   "source": [
    "### Find the first Ak when the realative error is less than 1%"
   ]
  },
  {
   "cell_type": "code",
   "execution_count": 18,
   "metadata": {},
   "outputs": [
    {
     "name": "stdout",
     "output_type": "stream",
     "text": [
      "Error less than 5% is 3.899300843477249 at position 8 in the matrix.\n"
     ]
    }
   ],
   "source": [
    "err5 = err[1:-1]\n",
    "h = np.argmax(err5<5.00)\n",
    "print('Error less than 5% is', err5[h], 'at position', h, 'in the matrix.')"
   ]
  },
  {
   "cell_type": "code",
   "execution_count": 19,
   "metadata": {},
   "outputs": [
    {
     "name": "stdout",
     "output_type": "stream",
     "text": [
      "Error less than 1% is 0.8447275497019291 at position 14 in the matrix.\n"
     ]
    }
   ],
   "source": [
    "err2 = err[1:-1]\n",
    "h = np.argmax(err2<1.00)\n",
    "print('Error less than 1% is', err2[h], 'at position', h, 'in the matrix.')"
   ]
  },
  {
   "cell_type": "code",
   "execution_count": 15,
   "metadata": {},
   "outputs": [
    {
     "name": "stdout",
     "output_type": "stream",
     "text": [
      "Error at specific vector count 1.2329861521720886 at position 12 in the matrix.\n"
     ]
    }
   ],
   "source": [
    "h = 12\n",
    "print('Error at specific vector count', err2[h], 'at position', h, 'in the matrix.')"
   ]
  },
  {
   "cell_type": "code",
   "execution_count": 16,
   "metadata": {},
   "outputs": [
    {
     "name": "stdout",
     "output_type": "stream",
     "text": [
      "The rank is 213\n"
     ]
    }
   ],
   "source": [
    "rank = np.linalg.matrix_rank(IQ2[:,1400:2500], tol=None)\n",
    "print('The rank is', rank)"
   ]
  },
  {
   "cell_type": "markdown",
   "metadata": {},
   "source": [
    "### Plot reconstruction up to Ak"
   ]
  },
  {
   "cell_type": "code",
   "execution_count": 15,
   "metadata": {
    "scrolled": true
   },
   "outputs": [
    {
     "data": {
      "text/plain": [
       "<matplotlib.figure.Figure at 0x7f95a434b908>"
      ]
     },
     "metadata": {},
     "output_type": "display_data"
    },
    {
     "data": {
      "image/png": "[encoded data removed]",
      "text/plain": [
       "<matplotlib.figure.Figure at 0x7f9528bb1ac8>"
      ]
     },
     "metadata": {},
     "output_type": "display_data"
    }
   ],
   "source": [
    "h = 2 # new value to plot to\n",
    "Ak = np.matrix(U[:, :h]) * np.diag(D[:h]) * np.matrix(V[:h, :])\n",
    "plt.figure(figsize=(9, 6))\n",
    "fig3 = plt.figure()\n",
    "# plt.imshow(20*np.log10(np.abs(Ak)+1e-8), aspect='auto', origin='lower')\n",
    "plt.imshow(20*np.log10(np.abs(Ak[690:730,2770:2830])+1e-8), aspect='auto', origin='lower')\n",
    "title = \"UDV Vectors: k = %s\" % h\n",
    "plt.title(title)\n",
    "plt.xlabel('Time in bins')\n",
    "plt.ylabel('Frequency bins(1Khz resolution)')\n",
    "plt.minorticks_on()\n",
    "plt.yticks(np.arange(0,40, 4))\n",
    "fig3.savefig('vod_2vectors.pdf', format=\"pdf\")\n",
    "plt.show()"
   ]
  },
  {
   "cell_type": "markdown",
   "metadata": {},
   "source": [
    "#### Plot full reconstruction using full rank"
   ]
  },
  {
   "cell_type": "code",
   "execution_count": 16,
   "metadata": {},
   "outputs": [
    {
     "data": {
      "text/plain": [
       "<matplotlib.figure.Figure at 0x7f95a784f860>"
      ]
     },
     "metadata": {},
     "output_type": "display_data"
    },
    {
     "data": {
      "image/png": "[encoded data removed]",
      "text/plain": [
       "<matplotlib.figure.Figure at 0x7f95231d2f60>"
      ]
     },
     "metadata": {},
     "output_type": "display_data"
    }
   ],
   "source": [
    "rank = 13\n",
    "Ak = np.matrix(U[:, :rank]) * np.diag(D[:rank]) * np.matrix(V[:rank, :])\n",
    "plt.figure(figsize=(9, 6))\n",
    "fig4 = plt.figure()\n",
    "# plt.imshow(20*np.log10(np.abs(full_rank)+1e-8), aspect='auto', origin='lower')\n",
    "plt.imshow(20*np.log10(np.abs(Ak[690:730,2770:2830])+1e-8), aspect='auto', origin='lower')\n",
    "title = \"UDV Vectors: k = %s\" % rank\n",
    "plt.title(title)\n",
    "plt.xlabel('Time in bins')\n",
    "plt.ylabel('Frequency bins(1Khz resolution)')\n",
    "plt.minorticks_on()\n",
    "plt.yticks(np.arange(0,40, 4))\n",
    "fig4.savefig('vod_13vectors.pdf', format=\"pdf\")\n",
    "plt.show()"
   ]
  },
  {
   "cell_type": "code",
   "execution_count": 17,
   "metadata": {},
   "outputs": [
    {
     "data": {
      "text/plain": [
       "<matplotlib.figure.Figure at 0x7f9528bb1908>"
      ]
     },
     "metadata": {},
     "output_type": "display_data"
    },
    {
     "data": {
      "image/png": "[encoded data removed]",
      "text/plain": [
       "<matplotlib.figure.Figure at 0x7f95a784f940>"
      ]
     },
     "metadata": {},
     "output_type": "display_data"
    }
   ],
   "source": [
    "h = 1000 # new value to plot to\n",
    "Ak = np.matrix(U[:, :h]) * np.diag(D[:h]) * np.matrix(V[:h, :])\n",
    "plt.figure(figsize=(9, 6))\n",
    "fig5 = plt.figure()\n",
    "# plt.imshow(20*np.log10(np.abs(Ak)+1e-8), aspect='auto', origin='lower')\n",
    "plt.imshow(20*np.log10(np.abs(Ak[690:730,2770:2830])+1e-8), aspect='auto', origin='lower')\n",
    "title = \"UDV Vectors: k = %s\" % h\n",
    "plt.title(title)\n",
    "plt.xlabel('Time in bins')\n",
    "plt.ylabel('Frequency bins(1Khz resolution)')\n",
    "plt.minorticks_on()\n",
    "plt.yticks(np.arange(0,40, 4))\n",
    "fig5.savefig('vod_1000vectors.pdf', format=\"pdf\")\n",
    "plt.show()"
   ]
  },
  {
   "cell_type": "code",
   "execution_count": null,
   "metadata": {},
   "outputs": [],
   "source": []
  }
 ],
 "metadata": {
  "accelerator": "GPU",
  "colab": {
   "collapsed_sections": [],
   "name": "E533 HW1 rev4.ipynb",
   "provenance": [
    {
     "file_id": "1DEqxXQe7Yw25roekLHtUmU_55IJKGY0H",
     "timestamp": 1548894460827
    },
    {
     "file_id": "19e_Vg1krlpJa5zSISQDOVQTwYKepXKql",
     "timestamp": 1548892687570
    },
    {
     "file_id": "1b7T-jkKgv4ynQ_Pe5HCAUM9GTox9fKS9",
     "timestamp": 1548440177000
    },
    {
     "file_id": "12fap5WLhwheizCF9I9Ul-qc2bQ7ZmiWS",
     "timestamp": 1548439576387
    }
   ],
   "version": "0.3.2"
  },
  "kernelspec": {
   "display_name": "Python 3",
   "language": "python",
   "name": "python3"
  },
  "language_info": {
   "codemirror_mode": {
    "name": "ipython",
    "version": 3
   },
   "file_extension": ".py",
   "mimetype": "text/x-python",
   "name": "python",
   "nbconvert_exporter": "python",
   "pygments_lexer": "ipython3",
   "version": "3.6.9"
  }
 },
 "nbformat": 4,
 "nbformat_minor": 1
}
