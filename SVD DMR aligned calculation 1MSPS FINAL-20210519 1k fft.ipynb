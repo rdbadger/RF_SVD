{
 "cells": [
  {
   "cell_type": "markdown",
   "metadata": {},
   "source": [
    "## SVD DMR: wav file alignment"
   ]
  },
  {
   "cell_type": "code",
   "execution_count": 24,
   "metadata": {
    "colab": {
     "base_uri": "https://localhost:8080/",
     "height": 68
    },
    "colab_type": "code",
    "executionInfo": {
     "elapsed": 2251,
     "status": "ok",
     "timestamp": 1548951950015,
     "user": {
      "displayName": "Robert Badger",
      "photoUrl": "",
      "userId": "11966704463856227449"
     },
     "user_tz": 300
    },
    "id": "r80FflgHhCiH",
    "outputId": "143411b2-cc11-47a1-c334-a76291219798",
    "scrolled": false
   },
   "outputs": [],
   "source": [
    "import os\n",
    "import torch, torchvision\n",
    "import numpy as np\n",
    "import matplotlib.pyplot as plt\n",
    "import soundfile as sf\n",
    "from pystoi import stoi"
   ]
  },
  {
   "cell_type": "code",
   "execution_count": 25,
   "metadata": {},
   "outputs": [],
   "source": [
    "# %matplotlib notebook\n",
    "# %matplotlib inline"
   ]
  },
  {
   "cell_type": "markdown",
   "metadata": {
    "colab_type": "text",
    "id": "2t_9_D3l0Px9"
   },
   "source": [
    "#### Machine paths"
   ]
  },
  {
   "cell_type": "code",
   "execution_count": 26,
   "metadata": {
    "scrolled": true
   },
   "outputs": [
    {
     "name": "stdout",
     "output_type": "stream",
     "text": [
      "/home/david/sigMF_ML/RF_SVD/clean_speech/IQ_files/dmr_aligned/dmr_1k_aligned_20210519/\n"
     ]
    }
   ],
   "source": [
    "path = \"/home/david/sigMF_ML/RF_SVD/clean_speech/IQ_files/dmr_aligned/dmr_1k_aligned_20210519/\" # ace\n",
    "path_save = \"/home/david/sigMF_ML/RF_SVD/clean_speech/IQ_files/dmr_aligned/dmr_1k_aligned_20210519/stoi_save/\" # ace\n",
    "print(path)"
   ]
  },
  {
   "cell_type": "markdown",
   "metadata": {},
   "source": [
    "#### reading sigmf meta data and encoder function"
   ]
  },
  {
   "cell_type": "code",
   "execution_count": 27,
   "metadata": {},
   "outputs": [],
   "source": [
    "def calculate_sdr(source_signal, estimated_signal, offset=None, scale_invariant=True):\n",
    "    # For regular SDR, set “scale_invariant” to False, for SISDR, set it to True.\n",
    "    s = source_signal\n",
    "    y = estimated_signal\n",
    "    # add a batch axis if non-existant\n",
    "    if len(s.shape) != 2:\n",
    "        s = s.unsqueeze(0)\n",
    "        y = y.unsqueeze(0)\n",
    "    # truncate all signals in the batch to match the minimum-length\n",
    "    min_length = min(s.shape[-1], y.shape[-1])\n",
    "    s = s[..., :min_length]\n",
    "    y = y[..., :min_length]\n",
    "    if scale_invariant:\n",
    "        alpha = s.mm(y.T).diag()\n",
    "        alpha /= ((s ** 2).sum(dim=1) + eps)\n",
    "        alpha = alpha.unsqueeze(1)  # to allow broadcasting\n",
    "    else:\n",
    "        alpha = 1\n",
    "    e_target = s * alpha\n",
    "    e_res = e_target - y\n",
    "    numerator = (e_target ** 2).sum(dim=1)\n",
    "    denominator = (e_res ** 2).sum(dim=1) + eps\n",
    "    sdr = 10 * torch.log10((numerator / denominator) + eps)\n",
    "    # if `offset` is non-zero, this function returns the relative SDR\n",
    "    # improvement for each signal in the batch\n",
    "    if offset is not None:\n",
    "        sdr -= offset\n",
    "    return sdr"
   ]
  },
  {
   "cell_type": "code",
   "execution_count": 28,
   "metadata": {},
   "outputs": [
    {
     "name": "stdout",
     "output_type": "stream",
     "text": [
      "/home/david/sigMF_ML/RF_SVD/clean_speech/IQ_files/dmr_aligned/dmr_1k_aligned_20210519/\n"
     ]
    }
   ],
   "source": [
    "print(path)\n",
    "os.chdir(path)"
   ]
  },
  {
   "cell_type": "code",
   "execution_count": 29,
   "metadata": {},
   "outputs": [],
   "source": [
    "eps = np.finfo(np.float32).eps"
   ]
  },
  {
   "cell_type": "code",
   "execution_count": 36,
   "metadata": {},
   "outputs": [],
   "source": [
    "# clean, fs = sf.read(path+'original_clean_aligned.wav')\n",
    "# clean, fs = sf.read(path+'1914-133440-0016.flac')\n",
    "clean, fs = sf.read(path+'dmr_clean_speech_aligned.wav')\n",
    "c = len(clean)\n",
    "original_clean = clean\n",
    "original_c = c\n",
    "# print('clean length = ', c)\n",
    "# print('fs original = ', fs)\n",
    "rank_list = [5,6,7,8,9,10,1000]\n",
    "d1 = np.zeros(len(rank_list), dtype = float)\n",
    "SNR_calc = np.zeros(len(rank_list), dtype = float)\n",
    "m = 0\n",
    "# print('d1 = ', d1)\n",
    "for i in rank_list:\n",
    "#     print('rank =', i)\n",
    "    if (i != 1000):\n",
    "        fullpath =path+'dmr_svd'+'{0:02d}'.format(i)+'_aligned.wav'\n",
    "        denoised, fs = sf.read(fullpath)\n",
    "        de = len(denoised)\n",
    "#         print('de length = ', de)\n",
    "        if c > de:\n",
    "            clean = clean[0:de]\n",
    "#             print('clean new length = ', len(clean))\n",
    "        else:\n",
    "            denoised = denoised[0:c]\n",
    "#             print('denoised new length = ', len(denoised))\n",
    "        # Clean and den should have the same length, and be 1D\n",
    "        d1[m] = stoi(clean, denoised, fs, extended=False)\n",
    "        SNR_calc[m] = calculate_sdr(torch.Tensor(clean), torch.Tensor(denoised))\n",
    "    elif (i == 1000): # This is the full vector - NO SVD\n",
    "        denoised, fs = sf.read(path+'dmr_clean_speech_aligned.wav')\n",
    "        de = len(denoised)\n",
    "        if c > de:\n",
    "            clean = clean[0:de]\n",
    "        else:\n",
    "            denoised = denoised[0:c]\n",
    "    d1[m] = stoi(clean, denoised, fs, extended=False)\n",
    "    SNR_calc[m] = calculate_sdr(torch.Tensor(clean), torch.Tensor(denoised))\n",
    "    m=m+1\n",
    "    clean = original_clean\n",
    "    c = original_c"
   ]
  },
  {
   "cell_type": "code",
   "execution_count": 37,
   "metadata": {
    "scrolled": true
   },
   "outputs": [
    {
     "data": {
      "text/plain": [
       "array([ 5,  6,  7,  8,  9, 10])"
      ]
     },
     "execution_count": 37,
     "metadata": {},
     "output_type": "execute_result"
    }
   ],
   "source": [
    "num = 6\n",
    "np.asarray(rank_list[:num])"
   ]
  },
  {
   "cell_type": "code",
   "execution_count": 38,
   "metadata": {},
   "outputs": [
    {
     "data": {
      "text/plain": [
       "array([0.86877864, 0.91621263, 0.91869964, 0.91850403, 0.91576838,\n",
       "       0.92391323])"
      ]
     },
     "execution_count": 38,
     "metadata": {},
     "output_type": "execute_result"
    }
   ],
   "source": [
    "d1[:num]"
   ]
  },
  {
   "cell_type": "code",
   "execution_count": 43,
   "metadata": {},
   "outputs": [],
   "source": [
    "d2 = [0.8603, 0.9161, 0.9154, 0.9170, 0.9124, 0.9217] # stoi results from Minje's matlab code\n",
    "d2 = np.asarray(d2[:num])"
   ]
  },
  {
   "cell_type": "code",
   "execution_count": 44,
   "metadata": {},
   "outputs": [],
   "source": [
    "num = 6\n",
    "os.chdir(path_save)\n",
    "np.save('rank_list_dmr', np.asarray(rank_list[:num]))\n",
    "np.save('dmr', d1[:num])   "
   ]
  },
  {
   "cell_type": "code",
   "execution_count": 51,
   "metadata": {
    "scrolled": false
   },
   "outputs": [
    {
     "data": {
      "text/plain": [
       "<matplotlib.figure.Figure at 0x7f6514413ac8>"
      ]
     },
     "metadata": {},
     "output_type": "display_data"
    },
    {
     "data": {
      "image/png": "[encoded data removed]",
      "text/plain": [
       "<matplotlib.figure.Figure at 0x7f6514413c50>"
      ]
     },
     "metadata": {
      "needs_background": "light"
     },
     "output_type": "display_data"
    }
   ],
   "source": [
    "plt.figure(figsize=(9, 6))\n",
    "fig = plt.figure()\n",
    "plt.scatter(rank_list[:num],d2,c='r', label='STOI')\n",
    "plt.legend(loc='lower right')\n",
    "plt.title('STOI vs SVD vectors (1000 fft)')\n",
    "plt.xlabel('SVD vectors')\n",
    "plt.ylabel('STOI')\n",
    "plt.ylim(.85, .93)\n",
    "plt.xlim(4.9, 10.1)\n",
    "plt.grid()\n",
    "fig.savefig('dmr_stoi.pdf', format=\"pdf\")\n",
    "plt.show()"
   ]
  },
  {
   "cell_type": "code",
   "execution_count": 26,
   "metadata": {},
   "outputs": [
    {
     "data": {
      "text/plain": [
       "<matplotlib.figure.Figure at 0x7f23e3210828>"
      ]
     },
     "metadata": {},
     "output_type": "display_data"
    },
    {
     "data": {
      "image/png": "[encoded data removed]",
      "text/plain": [
       "<matplotlib.figure.Figure at 0x7f23e3423be0>"
      ]
     },
     "metadata": {
      "needs_background": "light"
     },
     "output_type": "display_data"
    }
   ],
   "source": [
    "plt.figure(figsize=(9, 6))\n",
    "fig2 = plt.figure()\n",
    "plt.scatter(rank_list,d1,c='r', label='STOI')\n",
    "plt.legend(loc='lower right')\n",
    "plt.title('STOI vs SVD vectors: All')\n",
    "plt.xlabel('SVD vectors')\n",
    "plt.ylabel('STOI')\n",
    "plt.ylim(.75, .8)\n",
    "plt.xlim(4, 26)\n",
    "plt.grid()\n",
    "fig2.savefig('dmr_stoi_all.png', format=\"png\")\n",
    "plt.show()"
   ]
  },
  {
   "cell_type": "code",
   "execution_count": null,
   "metadata": {},
   "outputs": [],
   "source": []
  }
 ],
 "metadata": {
  "accelerator": "GPU",
  "colab": {
   "collapsed_sections": [],
   "name": "E533 HW1 rev4.ipynb",
   "provenance": [
    {
     "file_id": "1DEqxXQe7Yw25roekLHtUmU_55IJKGY0H",
     "timestamp": 1548894460827
    },
    {
     "file_id": "19e_Vg1krlpJa5zSISQDOVQTwYKepXKql",
     "timestamp": 1548892687570
    },
    {
     "file_id": "1b7T-jkKgv4ynQ_Pe5HCAUM9GTox9fKS9",
     "timestamp": 1548440177000
    },
    {
     "file_id": "12fap5WLhwheizCF9I9Ul-qc2bQ7ZmiWS",
     "timestamp": 1548439576387
    }
   ],
   "version": "0.3.2"
  },
  "kernelspec": {
   "display_name": "Python 3",
   "language": "python",
   "name": "python3"
  },
  "language_info": {
   "codemirror_mode": {
    "name": "ipython",
    "version": 3
   },
   "file_extension": ".py",
   "mimetype": "text/x-python",
   "name": "python",
   "nbconvert_exporter": "python",
   "pygments_lexer": "ipython3",
   "version": "3.6.9"
  }
 },
 "nbformat": 4,
 "nbformat_minor": 1
}
